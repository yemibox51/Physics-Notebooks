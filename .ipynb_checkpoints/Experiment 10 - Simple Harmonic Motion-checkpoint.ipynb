{
 "cells": [
  {
   "cell_type": "code",
   "execution_count": 2,
   "id": "fdb2407b",
   "metadata": {},
   "outputs": [],
   "source": [
    "import numpy as np\n",
    "import matplotlib.pyplot as plt\n",
    "import sympy as sym"
   ]
  },
  {
   "cell_type": "code",
   "execution_count": 3,
   "id": "40b2436f",
   "metadata": {},
   "outputs": [],
   "source": [
    "# Procedure A\n",
    "GLX_force = [0, .6039]\n",
    "sensor_position = [77.5, 87]\n",
    "displacement_initial_position = [None] * 6\n",
    "\n",
    "Fx = [None] * 5\n",
    "x2 = [None] * 5"
   ]
  },
  {
   "cell_type": "code",
   "execution_count": 4,
   "id": "2585f5e8",
   "metadata": {},
   "outputs": [],
   "source": [
    "# Calculations Procedure A"
   ]
  },
  {
   "cell_type": "code",
   "execution_count": 5,
   "id": "25651352",
   "metadata": {},
   "outputs": [],
   "source": [
    "# Procedure B\n",
    "mass_suspended_spring = [None] * 2\n",
    "effective_mass = [None] * 2\n",
    "time_for_10_oscillations = [8.32, 11.32]\n",
    "experimental_period = [0.832, 1.132]\n",
    "\n",
    "theoretical_period = [None] * 2\n",
    "percentage_error = [None] * 2"
   ]
  },
  {
   "cell_type": "code",
   "execution_count": 6,
   "id": "4c8312f0",
   "metadata": {},
   "outputs": [],
   "source": [
    "# Calculations Procedure B"
   ]
  },
  {
   "cell_type": "code",
   "execution_count": 8,
   "id": "0460a0b1",
   "metadata": {},
   "outputs": [],
   "source": [
    "# Procedure C\n",
    "diamater_ball = 3.41 #cm\n",
    "radius_ball = 1.705 #cm\n",
    "\n",
    "pendulum_length = [None] * 6\n",
    "time_for_30_oscillations = [None] * 6\n",
    "pendulum_period = [None] * 6\n",
    "period_squared = [None] * 6\n"
   ]
  },
  {
   "cell_type": "code",
   "execution_count": 9,
   "id": "d9061fdc",
   "metadata": {},
   "outputs": [],
   "source": [
    "# Calculations Procedure C"
   ]
  },
  {
   "cell_type": "code",
   "execution_count": null,
   "id": "0da7f00f",
   "metadata": {},
   "outputs": [],
   "source": [
    "# Graph for Procedure C"
   ]
  }
 ],
 "metadata": {
  "kernelspec": {
   "display_name": "Python 3",
   "language": "python",
   "name": "python3"
  },
  "language_info": {
   "codemirror_mode": {
    "name": "ipython",
    "version": 3
   },
   "file_extension": ".py",
   "mimetype": "text/x-python",
   "name": "python",
   "nbconvert_exporter": "python",
   "pygments_lexer": "ipython3",
   "version": "3.8.8"
  }
 },
 "nbformat": 4,
 "nbformat_minor": 5
}
